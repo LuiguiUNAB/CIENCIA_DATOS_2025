{
  "nbformat": 4,
  "nbformat_minor": 0,
  "metadata": {
    "colab": {
      "provenance": [],
      "authorship_tag": "ABX9TyOGEj6FbRJYpZDQIszWVVsZ",
      "include_colab_link": true
    },
    "kernelspec": {
      "name": "python3",
      "display_name": "Python 3"
    },
    "language_info": {
      "name": "python"
    }
  },
  "cells": [
    {
      "cell_type": "markdown",
      "metadata": {
        "id": "view-in-github",
        "colab_type": "text"
      },
      "source": [
        "<a href=\"https://colab.research.google.com/github/LuiguiUNAB/CIENCIA_DATOS_2025/blob/main/Clase_1_Operador_Ternario_y_Funciones_an%C3%B3nimas.ipynb\" target=\"_parent\"><img src=\"https://colab.research.google.com/assets/colab-badge.svg\" alt=\"Open In Colab\"/></a>"
      ]
    },
    {
      "cell_type": "code",
      "execution_count": 4,
      "metadata": {
        "colab": {
          "base_uri": "https://localhost:8080/"
        },
        "id": "rxNtnv3M2aA0",
        "outputId": "5e25ef68-af2b-4def-c49a-c3d88eb35969"
      },
      "outputs": [
        {
          "output_type": "stream",
          "name": "stdout",
          "text": [
            "Ingrese un valor 10\n",
            "Ingrese otro 25\n",
            "25 es mayor que 10 \n"
          ]
        }
      ],
      "source": [
        "#Ejemplo\n",
        "#Conocer cual es el mayor de dos números\n",
        "a = int(input(\"Ingrese un valor \"))\n",
        "b = int(input(\"Ingrese otro \"))\n",
        "if a>b:\n",
        "  print(f\"{a}es mayor que {b} \")\n",
        "else:\n",
        "  print(f\"{b} es mayor que {a} \")"
      ]
    },
    {
      "cell_type": "markdown",
      "source": [
        "# FUNCIONES\n",
        "1. Funciones / Métodos\n",
        "2. Funciones Anónimas"
      ],
      "metadata": {
        "id": "eHdWNr7B4M9u"
      }
    },
    {
      "cell_type": "markdown",
      "source": [
        "## Funciones\n",
        "Declarando una función\n",
        "\n",
        "\n",
        "```\n",
        "def (nombre de la función)(Parámetros de la función, , ,):\n",
        "   Adentro está lo que se va a ejecutar\n",
        "```\n",
        "1. Sin parámetro, sin retorno\n",
        "2. Sin parámetro, con retorno\n",
        "3. Con parámetro, sin retorno\n",
        "4. Con parámetro, con retorno\n",
        "\n"
      ],
      "metadata": {
        "id": "fGpcvRMi4vrN"
      }
    },
    {
      "cell_type": "markdown",
      "source": [
        "### 1. Sin parámetro, sin retorno\n",
        "Se emplea cuando no se requiere un almacenamiento en una variable local.\n",
        "No se requiere parámetros para su uso"
      ],
      "metadata": {
        "id": "_2TIKgEX5jHk"
      }
    },
    {
      "cell_type": "code",
      "source": [
        "print(\"hola mundo\")"
      ],
      "metadata": {
        "colab": {
          "base_uri": "https://localhost:8080/"
        },
        "id": "m34wYL895oVr",
        "outputId": "4f18c01a-747d-4348-d08c-97af511705d2"
      },
      "execution_count": 5,
      "outputs": [
        {
          "output_type": "stream",
          "name": "stdout",
          "text": [
            "hola mundo\n"
          ]
        }
      ]
    },
    {
      "cell_type": "code",
      "source": [
        "def saludo():\n",
        "  print(\"hola mundo\")"
      ],
      "metadata": {
        "id": "jOMpDIne59Zq"
      },
      "execution_count": 6,
      "outputs": []
    },
    {
      "cell_type": "code",
      "source": [
        "saludo()"
      ],
      "metadata": {
        "colab": {
          "base_uri": "https://localhost:8080/"
        },
        "id": "WIa9-X6r6HGR",
        "outputId": "6676d789-1a04-40a3-d9e5-2b0ae4e1b774"
      },
      "execution_count": 7,
      "outputs": [
        {
          "output_type": "stream",
          "name": "stdout",
          "text": [
            "hola mundo\n"
          ]
        }
      ]
    },
    {
      "cell_type": "markdown",
      "source": [
        "### 2. Sin parámetro, con retorno\n",
        "Cuando necesito realizar una operación, y convertir una variable local en global"
      ],
      "metadata": {
        "id": "E-b82ecn6JgR"
      }
    },
    {
      "cell_type": "code",
      "source": [
        "def numero2():\n",
        "  d = 4+5\n",
        "  print(d)"
      ],
      "metadata": {
        "id": "i_kDztxH6OCS"
      },
      "execution_count": 13,
      "outputs": []
    },
    {
      "cell_type": "code",
      "source": [
        "numero2()\n"
      ],
      "metadata": {
        "colab": {
          "base_uri": "https://localhost:8080/"
        },
        "id": "dEtzLha66kJp",
        "outputId": "c3314fc8-7fcb-456e-aaa5-4218ce0d4233"
      },
      "execution_count": 15,
      "outputs": [
        {
          "output_type": "stream",
          "name": "stdout",
          "text": [
            "9\n"
          ]
        }
      ]
    },
    {
      "cell_type": "markdown",
      "source": [
        "### 3. Con parametro, Sin retorno"
      ],
      "metadata": {
        "id": "6S95oqUn7SwP"
      }
    },
    {
      "cell_type": "code",
      "source": [
        "def cuadrado(a): print(a**2)\n",
        "cuadrado(5)\n"
      ],
      "metadata": {
        "colab": {
          "base_uri": "https://localhost:8080/"
        },
        "id": "mI44flZs7Vkm",
        "outputId": "a51551fd-1844-4a15-aef6-11f608d18c68"
      },
      "execution_count": 16,
      "outputs": [
        {
          "output_type": "stream",
          "name": "stdout",
          "text": [
            "25\n"
          ]
        }
      ]
    },
    {
      "cell_type": "markdown",
      "source": [
        "### 4. Con parametro, Con retorno"
      ],
      "metadata": {
        "id": "Jm4FBlwM79xe"
      }
    },
    {
      "cell_type": "code",
      "source": [
        "def cubo(b): return(b**3)\n",
        "a = cubo(6)\n",
        "a"
      ],
      "metadata": {
        "colab": {
          "base_uri": "https://localhost:8080/"
        },
        "id": "vNjpsm0p8ApV",
        "outputId": "263da9bc-2580-493a-f0b8-1303db1fdca6"
      },
      "execution_count": 18,
      "outputs": [
        {
          "output_type": "execute_result",
          "data": {
            "text/plain": [
              "216"
            ]
          },
          "metadata": {},
          "execution_count": 18
        }
      ]
    },
    {
      "cell_type": "markdown",
      "source": [
        "# Funciones anónimas\n",
        "1. Fácil y rápido\n",
        "2. No requiere nombrar\n",
        "3. **Se pueden emplear n parámetros pero solo se puede ejecutar una función por vez**\n",
        "4. Siempre usan parámetro y siempre usan retorno\n",
        "\n",
        "Declarando\n",
        "\n",
        "```\n",
        "Variable = lambda (parámetro):, función del parámetro\n",
        "```\n",
        "\n"
      ],
      "metadata": {
        "id": "k3tNeBU-GJQs"
      }
    },
    {
      "cell_type": "code",
      "source": [
        "#Ejemplo: cuadrado de un número\n",
        "cuadrado2 = lambda a:a**2\n",
        "cuadrado2(4)"
      ],
      "metadata": {
        "colab": {
          "base_uri": "https://localhost:8080/"
        },
        "id": "5ckAAox-G9YZ",
        "outputId": "ed344300-6382-486b-b82d-0b3007a675e8"
      },
      "execution_count": 21,
      "outputs": [
        {
          "output_type": "execute_result",
          "data": {
            "text/plain": [
              "16"
            ]
          },
          "metadata": {},
          "execution_count": 21
        }
      ]
    },
    {
      "cell_type": "code",
      "source": [
        "#Ejemplo 2: Calculo de área de un rectángulo\n",
        "area_rect = lambda base, altura:base*altura\n",
        "area_rect(5,8)"
      ],
      "metadata": {
        "colab": {
          "base_uri": "https://localhost:8080/"
        },
        "id": "RPhXa8ViHYG4",
        "outputId": "08a5191f-2092-40a5-cc87-f99cff39cd49"
      },
      "execution_count": 27,
      "outputs": [
        {
          "output_type": "execute_result",
          "data": {
            "text/plain": [
              "40"
            ]
          },
          "metadata": {},
          "execution_count": 27
        }
      ]
    },
    {
      "cell_type": "code",
      "source": [
        "#Ejemplo 3: Calcular si el cuadrado de un número es mayor que 10\n",
        "ejemplo3 = lambda a:print(f\"el cuadrado de {a} es mayor que 10\" if a**2>10 else f\"El cuadrado de {a} no es mayor a 10\")\n",
        "ejemplo3(1)"
      ],
      "metadata": {
        "colab": {
          "base_uri": "https://localhost:8080/"
        },
        "id": "PuRv0RHpH1Dn",
        "outputId": "85fbc343-2145-406e-f821-bd8af17cc05c"
      },
      "execution_count": 30,
      "outputs": [
        {
          "output_type": "stream",
          "name": "stdout",
          "text": [
            "El cuadrado de 1 no es mayor a 10\n"
          ]
        }
      ]
    },
    {
      "cell_type": "code",
      "source": [
        "### Ejercicios de funciones de la prueba diagnóstica.\n",
        "import random\n",
        "\n",
        "# 1. Cuadrado de un número\n",
        "cuadrado = lambda x: x**2\n",
        "\n",
        "# 2. Saludo aleatorio\n",
        "saludo = lambda nombre: random.choice([\n",
        "    f\"Hola {nombre}, ¡qué gusto verte!\",\n",
        "    f\"¡Hey {nombre}! ¿Cómo estás?\",\n",
        "    f\"Buen día {nombre}, ¿listo para brillar?\",\n",
        "    f\"{nombre}, ¡qué alegría encontrarte!\",\n",
        "    f\"Saludos {nombre}, ¡espero que estés excelente!\",\n",
        "    f\"¡Qué tal {nombre}! Espero que todo marche bien.\",\n",
        "    f\"Hola {nombre}, ¡te extrañaba!\",\n",
        "    f\"{nombre}, ¡Como va todo manito!\",\n",
        "\n",
        "])\n",
        "\n",
        "# 3. Operaciones básicas\n",
        "operaciones = lambda a, b: (a+b, a-b, a*b, a/b if b!=0 else \"División por cero\")\n",
        "\n",
        "# 4. Mayor de edad\n",
        "mayor_edad = lambda edad: \"Mayor de edad\" if edad >= 18 else \"Menor de edad\"\n",
        "\n",
        "# 5. Palíndromo\n",
        "palindromo = lambda palabra: palabra.lower() == palabra[::-1].lower()\n",
        "\n",
        "# 6. Contar vocales\n",
        "contar_vocales = lambda texto: sum(1 for c in texto.lower() if c in \"aeiou\")\n",
        "\n",
        "# 7. Suma de lista\n",
        "suma_lista = lambda lista: sum(lista)\n",
        "\n",
        "# 8. Mayor y menor\n",
        "mayor_menor = lambda lista: (max(lista), min(lista))\n",
        "\n",
        "# 9. Lista invertida\n",
        "invertir_lista = lambda lista: lista[::-1]\n",
        "\n",
        "# 10. Nombres que empiezan con vocal\n",
        "nombres_vocal = lambda lista: sum(1 for nombre in lista if nombre[0].lower() in \"aeiou\")\n",
        "\n",
        "# 11. Eliminar repetidos\n",
        "sin_repetidos = lambda lista: list(set(lista))\n",
        "\n",
        "# 12. Filtrar primos\n",
        "es_primo = lambda n: n > 1 and all(n % i != 0 for i in range(2, int(n**0.5)+1))\n",
        "primos_lista = lambda lista: [n for n in lista if es_primo(n)]\n",
        "\n",
        "# 13. Mensaje con datos de persona\n",
        "mensaje_persona = lambda d: f\"Nombre: {d['nombre']}, Edad: {d['edad']}\"\n",
        "\n",
        "# 14. Total productos\n",
        "total_productos = lambda d: sum(d.values())\n",
        "\n",
        "# 15. Promedio notas\n",
        "promedio_notas = lambda d: sum(d.values()) / len(d) if d else 0\n",
        "\n",
        "# 16. Buscar nota por nombre\n",
        "buscar_nota = lambda d, nombre: d.get(nombre, \"no encontrado\")\n",
        "\n",
        "# 17. Estudiante con mayor nota\n",
        "mejor_estudiante = lambda d: max(d, key=d.get)\n",
        "\n",
        "# 18. Productos con precio mayor a un valor\n",
        "filtrar_productos = lambda d, v: {k: p for k, p in d.items() if p > v}\n",
        "\n",
        "# 19. Total horas por empleado\n",
        "total_horas = lambda d: {k: sum(v) for k, v in d.items()}\n",
        "\n",
        "# 20. Promedio notas mayores de edad\n",
        "promedio_mayores = lambda d: sum(v['nota'] for v in d.values() if v['edad'] >= 18) / \\\n",
        "                             sum(1 for v in d.values() if v['edad'] >= 18) if any(v['edad'] >= 18 for v in d.values()) else 0"
      ],
      "metadata": {
        "id": "u4yEnSzyI9DN"
      },
      "execution_count": 56,
      "outputs": []
    },
    {
      "cell_type": "code",
      "source": [
        "saludo(\"Luis\")"
      ],
      "metadata": {
        "colab": {
          "base_uri": "https://localhost:8080/",
          "height": 35
        },
        "id": "vpiX7dNENPBj",
        "outputId": "e307f8bf-3b93-4ed9-894e-5dc7416f7102"
      },
      "execution_count": 55,
      "outputs": [
        {
          "output_type": "execute_result",
          "data": {
            "text/plain": [
              "'Luis, ¡Como va todo manito!'"
            ],
            "application/vnd.google.colaboratory.intrinsic+json": {
              "type": "string"
            }
          },
          "metadata": {},
          "execution_count": 55
        }
      ]
    }
  ]
}