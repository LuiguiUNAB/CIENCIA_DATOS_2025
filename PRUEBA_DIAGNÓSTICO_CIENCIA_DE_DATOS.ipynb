{
  "nbformat": 4,
  "nbformat_minor": 0,
  "metadata": {
    "colab": {
      "provenance": [],
      "authorship_tag": "ABX9TyMX2NEewy8YaA/ZisbUZyD/",
      "include_colab_link": true
    },
    "kernelspec": {
      "name": "python3",
      "display_name": "Python 3"
    },
    "language_info": {
      "name": "python"
    }
  },
  "cells": [
    {
      "cell_type": "markdown",
      "metadata": {
        "id": "view-in-github",
        "colab_type": "text"
      },
      "source": [
        "<a href=\"https://colab.research.google.com/github/LuiguiUNAB/CIENCIA_DATOS_2025/blob/main/PRUEBA_DIAGN%C3%93STICO_CIENCIA_DE_DATOS.ipynb\" target=\"_parent\"><img src=\"https://colab.research.google.com/assets/colab-badge.svg\" alt=\"Open In Colab\"/></a>"
      ]
    },
    {
      "cell_type": "markdown",
      "source": [
        "## Parte 1: Estructuras de Decisión (10 ejercicios)\n",
        "1\tEscribe un programa que reciba un número e indique si es positivo."
      ],
      "metadata": {
        "id": "ih7s6s09mpb-"
      }
    },
    {
      "cell_type": "code",
      "execution_count": 6,
      "metadata": {
        "colab": {
          "base_uri": "https://localhost:8080/"
        },
        "id": "Wk9lejzvkBA4",
        "outputId": "defe747f-958f-4b23-b9e1-a4d9d04815c1"
      },
      "outputs": [
        {
          "output_type": "stream",
          "name": "stdout",
          "text": [
            "Ingrese un número: -323243\n",
            "El número es negativo.\n"
          ]
        }
      ],
      "source": [
        "num = float(input(\"Ingrese un número: \"))\n",
        "if num >= 0:\n",
        "    print(\"El número es positivo.\")\n",
        "else:\n",
        "    print(\"El número es negativo.\")\n"
      ]
    },
    {
      "cell_type": "markdown",
      "source": [
        "2\tEscribe un programa que reciba una edad y determine si la persona es mayor de edad."
      ],
      "metadata": {
        "id": "iTCSzp0Fnq7F"
      }
    },
    {
      "cell_type": "code",
      "source": [
        "e = int(input(\"Ingrese su edad: \"))\n",
        "if e >= 18:\n",
        "  print(\"Usted es mayor de edad\")\n",
        "else:\n",
        "  print(\"Usted es menorsito\")"
      ],
      "metadata": {
        "colab": {
          "base_uri": "https://localhost:8080/"
        },
        "id": "ulqh7z6mntro",
        "outputId": "401b43bf-db29-43da-f1c0-e0bfcfdf4e9b"
      },
      "execution_count": 8,
      "outputs": [
        {
          "output_type": "stream",
          "name": "stdout",
          "text": [
            "Ingrese su edad: 25\n",
            "Usted es mayor de edad\n"
          ]
        }
      ]
    },
    {
      "cell_type": "markdown",
      "source": [
        "3\tEscribe un programa que reciba dos números e imprima el mayor.\n"
      ],
      "metadata": {
        "id": "ILGWag5gsbPI"
      }
    },
    {
      "cell_type": "code",
      "source": [
        "num1 = float(input(\"Ingrese un número: \"))\n",
        "num2 = float(input(\"Ingrese otro número: \"))\n",
        "if num1 > num2:\n",
        "  print(num1)\n",
        "elif num1 < num2:\n",
        "  print(num2)\n",
        "else:\n",
        "  print(\"Ambos son iguales ome  \")"
      ],
      "metadata": {
        "colab": {
          "base_uri": "https://localhost:8080/"
        },
        "id": "gTihvMftsc3B",
        "outputId": "6b1d673d-92aa-4d5d-cf85-23b5ee6891cb"
      },
      "execution_count": 11,
      "outputs": [
        {
          "output_type": "stream",
          "name": "stdout",
          "text": [
            "Ingrese un número: 5\n",
            "Ingrese otro número: 5\n",
            "Ambos son iguales ome\n"
          ]
        }
      ]
    },
    {
      "cell_type": "markdown",
      "source": [
        "4\tEscribe un programa que reciba una calificación (0-100) e indique si es Aprobado (>=60) o Reprobado."
      ],
      "metadata": {
        "id": "3nmUFsM6vHB-"
      }
    },
    {
      "cell_type": "code",
      "source": [
        "cal = int(input(\"Introduzca la calificación: \"))\n",
        "if cal >= 60:\n",
        "  print(\"Pasaste hermano\")\n",
        "else:\n",
        "  print(\"Perdiste\")"
      ],
      "metadata": {
        "colab": {
          "base_uri": "https://localhost:8080/"
        },
        "id": "YgMTxJxNvJfG",
        "outputId": "45d4f745-a252-4a50-c5f7-00cf37c3b7fa"
      },
      "execution_count": 16,
      "outputs": [
        {
          "output_type": "stream",
          "name": "stdout",
          "text": [
            "Introduzca la calificación: 77\n",
            "Pasaste hermano\n"
          ]
        }
      ]
    },
    {
      "cell_type": "markdown",
      "source": [
        "5\tEscribe un programa que determine si un número es par o impar.\n",
        "\n",
        "6\tEscribe un programa que reciba tres números e imprima el mayor de los tres.\n",
        "\n",
        "7\tEscribe un programa que reciba un año e indique si es bisiesto.\n",
        "\n",
        "8\tEscribe un programa que reciba una contraseña e indique si cumple con las siguientes reglas: más de 8 caracteres, contiene al menos un número y una letra mayúscula.\n",
        "\n",
        "9\tEscribe un programa que lea un número e imprima “Fizz” si es divisible por 3, “Buzz” si es divisible por 5 y “FizzBuzz” si es divisible por ambos.\n",
        "\n",
        "10\tEscribe un programa que simule un cajero automático: recibe el monto a retirar e imprime si la operación es posible en base al saldo disponible.\n"
      ],
      "metadata": {
        "id": "eNAFceQbxtgl"
      }
    },
    {
      "cell_type": "markdown",
      "source": [
        "## Parte 2: Estructuras de Repetición (10 ejercicios)"
      ],
      "metadata": {
        "id": "GuC5Av67yG_5"
      }
    },
    {
      "cell_type": "markdown",
      "source": [
        "1\tEscribe un programa que imprima los números del 1 al 10.\n"
      ],
      "metadata": {
        "id": "hJ3kez-Myv2P"
      }
    },
    {
      "cell_type": "code",
      "source": [
        "for i in range(1,11):\n",
        "  print(i)"
      ],
      "metadata": {
        "colab": {
          "base_uri": "https://localhost:8080/"
        },
        "id": "YBm7EACSwYQ-",
        "outputId": "3d56b526-18fc-4f0f-de23-1dcd63c4ccf9"
      },
      "execution_count": 17,
      "outputs": [
        {
          "output_type": "stream",
          "name": "stdout",
          "text": [
            "1\n",
            "2\n",
            "3\n",
            "4\n",
            "5\n",
            "6\n",
            "7\n",
            "8\n",
            "9\n",
            "10\n"
          ]
        }
      ]
    },
    {
      "cell_type": "markdown",
      "source": [
        "2\tEscribe un programa que sume los números del 1 al 100."
      ],
      "metadata": {
        "id": "bnNPT__Hz0MT"
      }
    },
    {
      "cell_type": "code",
      "source": [
        "suma = 0\n",
        "for i in range(1, 101):\n",
        "    suma += i\n",
        "\n",
        "print(\"La suma es:\", suma)\n"
      ],
      "metadata": {
        "colab": {
          "base_uri": "https://localhost:8080/"
        },
        "id": "Sr4YxI-Bz1Px",
        "outputId": "bb732a54-e5c1-4c17-e0b6-bae6a5a3fd49"
      },
      "execution_count": 20,
      "outputs": [
        {
          "output_type": "stream",
          "name": "stdout",
          "text": [
            "La suma es: 5050\n"
          ]
        }
      ]
    },
    {
      "cell_type": "markdown",
      "source": [
        "3\tEscribe un programa que imprima los múltiplos de 3 entre 1 y 30."
      ],
      "metadata": {
        "id": "eG-oAyeez9S4"
      }
    },
    {
      "cell_type": "code",
      "source": [
        "for i in range(3,31,3):\n",
        "  print(i)"
      ],
      "metadata": {
        "colab": {
          "base_uri": "https://localhost:8080/"
        },
        "id": "PFqEqPyjz_0t",
        "outputId": "9b002ed0-78aa-4045-d2fa-1b9f69c0042b"
      },
      "execution_count": 26,
      "outputs": [
        {
          "output_type": "stream",
          "name": "stdout",
          "text": [
            "3\n",
            "6\n",
            "9\n",
            "12\n",
            "15\n",
            "18\n",
            "21\n",
            "24\n",
            "27\n",
            "30\n"
          ]
        }
      ]
    },
    {
      "cell_type": "markdown",
      "source": [
        "4\tEscribe un programa que lea un número e imprima su tabla de multiplicar del 1 al 10."
      ],
      "metadata": {
        "id": "xiQcy-Qs0Xly"
      }
    },
    {
      "cell_type": "code",
      "source": [
        "num = int(input(\"Ingresa un número: \"))\n",
        "\n",
        "for i in range(1, 11):\n",
        "    resultado = num * i\n",
        "    print(f\"{num} x {i} = {resultado}\")\n"
      ],
      "metadata": {
        "colab": {
          "base_uri": "https://localhost:8080/"
        },
        "id": "KH_0gkuA0cIg",
        "outputId": "7edece5e-6ec6-479b-de16-1a2e7754978c"
      },
      "execution_count": 27,
      "outputs": [
        {
          "output_type": "stream",
          "name": "stdout",
          "text": [
            "Ingresa un número: 5\n",
            "5 x 1 = 5\n",
            "5 x 2 = 10\n",
            "5 x 3 = 15\n",
            "5 x 4 = 20\n",
            "5 x 5 = 25\n",
            "5 x 6 = 30\n",
            "5 x 7 = 35\n",
            "5 x 8 = 40\n",
            "5 x 9 = 45\n",
            "5 x 10 = 50\n"
          ]
        }
      ]
    },
    {
      "cell_type": "markdown",
      "source": [
        "Ya me cansé"
      ],
      "metadata": {
        "id": "aI3maO3L1c9e"
      }
    },
    {
      "cell_type": "markdown",
      "source": [
        "## Parte 3: Funciones y Tipos de Datos (20 ejercicios)\n",
        "1\tCrea una función que reciba un número y retorne su cuadrado."
      ],
      "metadata": {
        "id": "gLvVVkVj00Hz"
      }
    },
    {
      "cell_type": "code",
      "source": [
        "def cuadrado(num):\n",
        "    return num ** 2\n",
        "n = float(input(\"Ingresa un número: \"))\n",
        "print(\"El cuadrado es:\", cuadrado(n))\n"
      ],
      "metadata": {
        "colab": {
          "base_uri": "https://localhost:8080/"
        },
        "id": "LEw1k_kk04nW",
        "outputId": "88856555-da86-4e07-f7dc-d5200cd70838"
      },
      "execution_count": 40,
      "outputs": [
        {
          "output_type": "stream",
          "name": "stdout",
          "text": [
            "Ingresa un número: 10\n",
            "El cuadrado es: 100.0\n"
          ]
        }
      ]
    }
  ]
}